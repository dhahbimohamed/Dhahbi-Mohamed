{
  "nbformat": 4,
  "nbformat_minor": 0,
  "metadata": {
    "colab": {
      "provenance": [],
      "authorship_tag": "ABX9TyPxwdVmSlpIgXvt8QKRYh18",
      "include_colab_link": true
    },
    "kernelspec": {
      "name": "python3",
      "display_name": "Python 3"
    },
    "language_info": {
      "name": "python"
    }
  },
  "cells": [
    {
      "cell_type": "markdown",
      "metadata": {
        "id": "view-in-github",
        "colab_type": "text"
      },
      "source": [
        "<a href=\"https://colab.research.google.com/github/dhahbimohamed/Dhahbi-Mohamed/blob/main/edabit/2025_06_28_sum_of_squares.ipynb\" target=\"_parent\"><img src=\"https://colab.research.google.com/assets/colab-badge.svg\" alt=\"Open In Colab\"/></a>"
      ]
    },
    {
      "cell_type": "code",
      "execution_count": 1,
      "metadata": {
        "id": "9pWvAMNavjzp"
      },
      "outputs": [],
      "source": [
        "# ✅ Edabit – Return the Sum of Squares\n",
        "# 📅 Date: 2025-06-28\n",
        "# 🔗 Link: https://edabit.com/challenge/...\n",
        "# 🎯 Difficulty: Very Easy"
      ]
    },
    {
      "cell_type": "markdown",
      "source": [
        "📝 Problem:\n",
        "Given a list of numbers, return the sum of their squares.\n",
        "\n",
        "Example:\n",
        "Input: [1, 2, 3]\n",
        "Output: 14"
      ],
      "metadata": {
        "id": "RLqi-biw0qA8"
      }
    },
    {
      "cell_type": "code",
      "source": [
        "# ✅ Solution:\n",
        "def sum_of_squares(lst):\n",
        "    return sum(x**2 for x in lst)\n"
      ],
      "metadata": {
        "id": "0PF13Oi20oAp"
      },
      "execution_count": 7,
      "outputs": []
    },
    {
      "cell_type": "code",
      "source": [
        "# 🧪 Test\n",
        "print(sum_of_squares([1, 2, 3]))"
      ],
      "metadata": {
        "colab": {
          "base_uri": "https://localhost:8080/"
        },
        "id": "MtLegO_F0y74",
        "outputId": "e51f919c-a27a-43a3-f53c-7c3a8fff9221"
      },
      "execution_count": 8,
      "outputs": [
        {
          "output_type": "stream",
          "name": "stdout",
          "text": [
            "14\n"
          ]
        }
      ]
    },
    {
      "cell_type": "code",
      "source": [],
      "metadata": {
        "id": "XT-orLAS00VA"
      },
      "execution_count": null,
      "outputs": []
    }
  ]
}
