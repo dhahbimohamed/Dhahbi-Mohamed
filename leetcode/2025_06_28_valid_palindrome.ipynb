{
  "nbformat": 4,
  "nbformat_minor": 0,
  "metadata": {
    "colab": {
      "provenance": [],
      "authorship_tag": "ABX9TyO+B8uuZcttX6NdhWhNHBvp",
      "include_colab_link": true
    },
    "kernelspec": {
      "name": "python3",
      "display_name": "Python 3"
    },
    "language_info": {
      "name": "python"
    }
  },
  "cells": [
    {
      "cell_type": "markdown",
      "metadata": {
        "id": "view-in-github",
        "colab_type": "text"
      },
      "source": [
        "<a href=\"https://colab.research.google.com/github/dhahbimohamed/py-practice/blob/main/leetcode/2025_06_28_valid_palindrome.ipynb\" target=\"_parent\"><img src=\"https://colab.research.google.com/assets/colab-badge.svg\" alt=\"Open In Colab\"/></a>"
      ]
    },
    {
      "cell_type": "code",
      "execution_count": 13,
      "metadata": {
        "id": "9pWvAMNavjzp"
      },
      "outputs": [],
      "source": [
        "#🔢 Return the Next Number from the Integer Passed\n",
        "#Platform: Edabit\n",
        "#Date: 2025-06-28\n"
      ]
    },
    {
      "cell_type": "code",
      "source": [
        "#solution:\n",
        "def isPalindrome(s):\n",
        "    cleaned = ''.join(c.lower() for c in s if c.isalnum())\n",
        "    return cleaned == cleaned[::-1]"
      ],
      "metadata": {
        "id": "0PF13Oi20oAp"
      },
      "execution_count": 17,
      "outputs": []
    },
    {
      "cell_type": "code",
      "source": [
        "# 🧪 Test\n",
        "print(isPalindrome(\"A man, a plan, a canal: Panama\"))\n",
        "print(isPalindrome(\"race a car\"))"
      ],
      "metadata": {
        "colab": {
          "base_uri": "https://localhost:8080/"
        },
        "id": "MtLegO_F0y74",
        "outputId": "74acf7f4-c67b-4db5-9933-826cc741d821"
      },
      "execution_count": 19,
      "outputs": [
        {
          "output_type": "stream",
          "name": "stdout",
          "text": [
            "True\n",
            "False\n"
          ]
        }
      ]
    }
  ]
}