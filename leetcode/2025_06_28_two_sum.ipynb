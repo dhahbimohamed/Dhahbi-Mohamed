{
  "nbformat": 4,
  "nbformat_minor": 0,
  "metadata": {
    "colab": {
      "provenance": [],
      "authorship_tag": "ABX9TyNIpawD8+y53eiKBOhaLWIP",
      "include_colab_link": true
    },
    "kernelspec": {
      "name": "python3",
      "display_name": "Python 3"
    },
    "language_info": {
      "name": "python"
    }
  },
  "cells": [
    {
      "cell_type": "markdown",
      "metadata": {
        "id": "view-in-github",
        "colab_type": "text"
      },
      "source": [
        "<a href=\"https://colab.research.google.com/github/dhahbimohamed/Dhahbi-Mohamed/blob/main/leetcode/2025_06_28_two_sum.ipynb\" target=\"_parent\"><img src=\"https://colab.research.google.com/assets/colab-badge.svg\" alt=\"Open In Colab\"/></a>"
      ]
    },
    {
      "cell_type": "code",
      "execution_count": 1,
      "metadata": {
        "id": "9pWvAMNavjzp"
      },
      "outputs": [],
      "source": [
        "# ✅ LeetCode – Two Sum\n",
        "# 📅 Date: 2025-06-28\n",
        "# 🔗 Link: https://leetcode.com/problems/two-sum/\n",
        "# 🎯 Difficulty: Easy"
      ]
    },
    {
      "cell_type": "markdown",
      "source": [
        "\n",
        "📝 Problem:\n",
        "Given an array of integers nums and an integer target,\n",
        "return indices of the two numbers such that they add up to target.\n",
        "\n",
        "You may assume that each input would have exactly one solution.\n",
        "\n",
        "Example:\n",
        "Input: nums = [2,7,11,15], target = 9\n",
        "Output: [0,1]\n"
      ],
      "metadata": {
        "id": "RLqi-biw0qA8"
      }
    },
    {
      "cell_type": "code",
      "source": [
        "# ✅ Solution:\n",
        "def two_sum(nums, target):\n",
        "    hashmap = {}\n",
        "    for i, num in enumerate(nums):\n",
        "        diff = target - num\n",
        "        if diff in hashmap:\n",
        "            return [hashmap[diff], i]\n",
        "        hashmap[num] = i\n"
      ],
      "metadata": {
        "id": "0PF13Oi20oAp"
      },
      "execution_count": 3,
      "outputs": []
    },
    {
      "cell_type": "code",
      "source": [
        "# 🧪 Test\n",
        "print(two_sum([2, 7, 11, 15], 9))"
      ],
      "metadata": {
        "colab": {
          "base_uri": "https://localhost:8080/"
        },
        "id": "MtLegO_F0y74",
        "outputId": "14175004-c789-4856-c0d0-2f35f842e589"
      },
      "execution_count": 4,
      "outputs": [
        {
          "output_type": "stream",
          "name": "stdout",
          "text": [
            "[0, 1]\n"
          ]
        }
      ]
    },
    {
      "cell_type": "code",
      "source": [],
      "metadata": {
        "id": "XT-orLAS00VA"
      },
      "execution_count": null,
      "outputs": []
    }
  ]
}