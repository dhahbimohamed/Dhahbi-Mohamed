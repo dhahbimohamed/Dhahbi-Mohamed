{
  "nbformat": 4,
  "nbformat_minor": 0,
  "metadata": {
    "colab": {
      "provenance": [],
      "authorship_tag": "ABX9TyPX/5hWbTfC3wExHwkbwIDS",
      "include_colab_link": true
    },
    "kernelspec": {
      "name": "python3",
      "display_name": "Python 3"
    },
    "language_info": {
      "name": "python"
    }
  },
  "cells": [
    {
      "cell_type": "markdown",
      "metadata": {
        "id": "view-in-github",
        "colab_type": "text"
      },
      "source": [
        "<a href=\"https://colab.research.google.com/github/dhahbimohamed/Dhahbi-Mohamed/blob/main/exercism/2025_06_28_isogram.ipynb\" target=\"_parent\"><img src=\"https://colab.research.google.com/assets/colab-badge.svg\" alt=\"Open In Colab\"/></a>"
      ]
    },
    {
      "cell_type": "code",
      "execution_count": 1,
      "metadata": {
        "id": "9pWvAMNavjzp"
      },
      "outputs": [],
      "source": [
        "# ✅ Exercism – Isogram\n",
        "# 📅 Date: 2025-06-28\n",
        "# 🔗 Link: https://exercism.org/tracks/python/exercises/isogram\n",
        "# 🎯 Difficulty: Easy"
      ]
    },
    {
      "cell_type": "markdown",
      "source": [
        "\n",
        "📝 Problem:\n",
        "Determine if a word or phrase is an isogram.\n",
        "An isogram (also known as a \"nonpattern word\") is a word or phrase\n",
        "without a repeating letter, however spaces and hyphens are allowed to appear multiple times.\n",
        "\n",
        "Examples:\n",
        "- is_isogram(\"lumberjacks\") ➞ True\n",
        "- is_isogram(\"background\") ➞ True\n",
        "- is_isogram(\"downstream\") ➞ True\n",
        "- is_isogram(\"six-year-old\") ➞ True\n",
        "- is_isogram(\"isograms\") ➞ False\n"
      ],
      "metadata": {
        "id": "RLqi-biw0qA8"
      }
    },
    {
      "cell_type": "code",
      "source": [
        "# ✅ Solution:\n",
        "def is_isogram(string):\n",
        "    seen = []\n",
        "    for c in string.lower():\n",
        "        if c.isalpha():\n",
        "            if c in seen:\n",
        "                return False\n",
        "            seen.append(c)\n",
        "    return True\n"
      ],
      "metadata": {
        "id": "0PF13Oi20oAp"
      },
      "execution_count": 5,
      "outputs": []
    },
    {
      "cell_type": "code",
      "source": [
        "# 🧪 Tests\n",
        "print(is_isogram(\"lumberjacks\"))\n",
        "print(is_isogram(\"background\"))\n",
        "print(is_isogram(\"six-year-old\"))\n",
        "print(is_isogram(\"isograms\"))"
      ],
      "metadata": {
        "colab": {
          "base_uri": "https://localhost:8080/"
        },
        "id": "MtLegO_F0y74",
        "outputId": "d8ffcc44-f8a6-4f83-c91c-b00111430c1a"
      },
      "execution_count": 6,
      "outputs": [
        {
          "output_type": "stream",
          "name": "stdout",
          "text": [
            "True\n",
            "True\n",
            "True\n",
            "False\n"
          ]
        }
      ]
    },
    {
      "cell_type": "code",
      "source": [],
      "metadata": {
        "id": "XT-orLAS00VA"
      },
      "execution_count": null,
      "outputs": []
    }
  ]
}