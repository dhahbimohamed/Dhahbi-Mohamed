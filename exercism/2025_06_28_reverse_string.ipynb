{
  "nbformat": 4,
  "nbformat_minor": 0,
  "metadata": {
    "colab": {
      "provenance": [],
      "authorship_tag": "ABX9TyNpxNsvlybmKUte8SOmpzvP",
      "include_colab_link": true
    },
    "kernelspec": {
      "name": "python3",
      "display_name": "Python 3"
    },
    "language_info": {
      "name": "python"
    }
  },
  "cells": [
    {
      "cell_type": "markdown",
      "metadata": {
        "id": "view-in-github",
        "colab_type": "text"
      },
      "source": [
        "<a href=\"https://colab.research.google.com/github/dhahbimohamed/py-practice/blob/main/exercism/2025_06_28_reverse_string.ipynb\" target=\"_parent\"><img src=\"https://colab.research.google.com/assets/colab-badge.svg\" alt=\"Open In Colab\"/></a>"
      ]
    },
    {
      "cell_type": "code",
      "execution_count": null,
      "metadata": {
        "id": "9pWvAMNavjzp"
      },
      "outputs": [],
      "source": [
        "#🔁 Reverse String\n",
        "#platform: Exercism\n",
        "#Date: 2025-06-28"
      ]
    },
    {
      "cell_type": "code",
      "source": [
        "# ✅ Solution:\n",
        "def reverse(name):\n",
        "    return name[::-1]\n"
      ],
      "metadata": {
        "id": "0PF13Oi20oAp"
      },
      "execution_count": 8,
      "outputs": []
    },
    {
      "cell_type": "code",
      "source": [
        "# 🧪 Test\n",
        "print(reverse(\"stressed\"))"
      ],
      "metadata": {
        "colab": {
          "base_uri": "https://localhost:8080/"
        },
        "id": "MtLegO_F0y74",
        "outputId": "ddae1c93-8c99-48da-8ba0-ed1382abea08"
      },
      "execution_count": 9,
      "outputs": [
        {
          "output_type": "stream",
          "name": "stdout",
          "text": [
            "desserts\n"
          ]
        }
      ]
    }
  ]
}